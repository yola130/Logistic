{
 "cells": [
  {
   "cell_type": "code",
   "execution_count": 1,
   "id": "ac544f14-cde6-414b-95e7-032ea4b05044",
   "metadata": {},
   "outputs": [
    {
     "name": "stdout",
     "output_type": "stream",
     "text": [
      "C:\\Users\\13054\n",
      "当前工作目录: E:\\博士期间材料\\毕业论文材料\\python亚型-排除不吸氧和症状\\python建模1\n"
     ]
    }
   ],
   "source": [
    "import os\n",
    "current_path = os.getcwd()\n",
    "print(current_path)\n",
    "new_path = 'E:/博士期间材料/毕业论文材料/python亚型-排除不吸氧和症状/python建模1'\n",
    "os.chdir(new_path)\n",
    "print(\"当前工作目录: %s\" % os.getcwd())"
   ]
  },
  {
   "cell_type": "code",
   "execution_count": 2,
   "id": "81cc7602-e41c-4fec-97d5-859a569933c3",
   "metadata": {},
   "outputs": [],
   "source": [
    "import pandas as pd\n",
    "import seaborn as sns\n",
    "import numpy as np\n",
    "import matplotlib.pyplot as plt"
   ]
  },
  {
   "cell_type": "code",
   "execution_count": 3,
   "id": "35b93b0b-53c7-4a52-a29a-487bdb86a84a",
   "metadata": {},
   "outputs": [],
   "source": [
    "data = pd.read_csv(r'E:/博士期间材料/毕业论文材料/python亚型-排除不吸氧和症状/python建模1/subtypeforanalysismodelfinal.csv')"
   ]
  },
  {
   "cell_type": "code",
   "execution_count": 4,
   "id": "065cf31f-cf55-4c00-9521-cfd661814a0c",
   "metadata": {},
   "outputs": [
    {
     "name": "stdout",
     "output_type": "stream",
     "text": [
      "<class 'pandas.core.frame.DataFrame'>\n",
      "RangeIndex: 1355 entries, 0 to 1354\n",
      "Data columns (total 8 columns):\n",
      " #   Column       Non-Null Count  Dtype  \n",
      "---  ------       --------------  -----  \n",
      " 0   hospital     1355 non-null   int64  \n",
      " 1   ALB          1355 non-null   float64\n",
      " 2   LDH          1355 non-null   float64\n",
      " 3   ALP          1355 non-null   float64\n",
      " 4   Neutrophils  1355 non-null   float64\n",
      " 5   Fg           1355 non-null   float64\n",
      " 6   DBIL         1355 non-null   float64\n",
      " 7   outcome      1355 non-null   int64  \n",
      "dtypes: float64(6), int64(2)\n",
      "memory usage: 84.8 KB\n"
     ]
    }
   ],
   "source": [
    "data.info()"
   ]
  },
  {
   "cell_type": "code",
   "execution_count": 5,
   "id": "c9a85a35-0f03-4adf-9848-d7cc86ca2ea1",
   "metadata": {},
   "outputs": [
    {
     "data": {
      "text/html": [
       "<div>\n",
       "<style scoped>\n",
       "    .dataframe tbody tr th:only-of-type {\n",
       "        vertical-align: middle;\n",
       "    }\n",
       "\n",
       "    .dataframe tbody tr th {\n",
       "        vertical-align: top;\n",
       "    }\n",
       "\n",
       "    .dataframe thead th {\n",
       "        text-align: right;\n",
       "    }\n",
       "</style>\n",
       "<table border=\"1\" class=\"dataframe\">\n",
       "  <thead>\n",
       "    <tr style=\"text-align: right;\">\n",
       "      <th></th>\n",
       "      <th>hospital</th>\n",
       "      <th>ALB</th>\n",
       "      <th>LDH</th>\n",
       "      <th>ALP</th>\n",
       "      <th>Neutrophils</th>\n",
       "      <th>Fg</th>\n",
       "      <th>DBIL</th>\n",
       "      <th>outcome</th>\n",
       "    </tr>\n",
       "  </thead>\n",
       "  <tbody>\n",
       "    <tr>\n",
       "      <th>0</th>\n",
       "      <td>1</td>\n",
       "      <td>35.6806</td>\n",
       "      <td>304.6095</td>\n",
       "      <td>87.0188</td>\n",
       "      <td>4.98</td>\n",
       "      <td>3.16</td>\n",
       "      <td>8.126</td>\n",
       "      <td>1</td>\n",
       "    </tr>\n",
       "    <tr>\n",
       "      <th>1</th>\n",
       "      <td>1</td>\n",
       "      <td>39.0000</td>\n",
       "      <td>225.0000</td>\n",
       "      <td>79.0000</td>\n",
       "      <td>5.89</td>\n",
       "      <td>4.06</td>\n",
       "      <td>3.033</td>\n",
       "      <td>0</td>\n",
       "    </tr>\n",
       "    <tr>\n",
       "      <th>2</th>\n",
       "      <td>1</td>\n",
       "      <td>43.7000</td>\n",
       "      <td>342.0000</td>\n",
       "      <td>115.0000</td>\n",
       "      <td>3.69</td>\n",
       "      <td>3.35</td>\n",
       "      <td>4.900</td>\n",
       "      <td>0</td>\n",
       "    </tr>\n",
       "    <tr>\n",
       "      <th>3</th>\n",
       "      <td>1</td>\n",
       "      <td>43.8000</td>\n",
       "      <td>199.0000</td>\n",
       "      <td>67.0000</td>\n",
       "      <td>4.77</td>\n",
       "      <td>2.74</td>\n",
       "      <td>3.800</td>\n",
       "      <td>0</td>\n",
       "    </tr>\n",
       "    <tr>\n",
       "      <th>4</th>\n",
       "      <td>1</td>\n",
       "      <td>45.4000</td>\n",
       "      <td>240.0000</td>\n",
       "      <td>81.0000</td>\n",
       "      <td>4.12</td>\n",
       "      <td>2.79</td>\n",
       "      <td>4.600</td>\n",
       "      <td>0</td>\n",
       "    </tr>\n",
       "  </tbody>\n",
       "</table>\n",
       "</div>"
      ],
      "text/plain": [
       "   hospital      ALB       LDH       ALP  Neutrophils    Fg   DBIL  outcome\n",
       "0         1  35.6806  304.6095   87.0188         4.98  3.16  8.126        1\n",
       "1         1  39.0000  225.0000   79.0000         5.89  4.06  3.033        0\n",
       "2         1  43.7000  342.0000  115.0000         3.69  3.35  4.900        0\n",
       "3         1  43.8000  199.0000   67.0000         4.77  2.74  3.800        0\n",
       "4         1  45.4000  240.0000   81.0000         4.12  2.79  4.600        0"
      ]
     },
     "execution_count": 5,
     "metadata": {},
     "output_type": "execute_result"
    }
   ],
   "source": [
    "data.head()"
   ]
  },
  {
   "cell_type": "code",
   "execution_count": 6,
   "id": "e90dbe98-07ff-4e21-8641-33c40e827988",
   "metadata": {},
   "outputs": [],
   "source": [
    "#拆分数据\n",
    "data1 = data[data['hospital'] == 1]\n",
    "data2 = data[data['hospital'] == 2]"
   ]
  },
  {
   "cell_type": "code",
   "execution_count": 7,
   "id": "2200e4c7-ccce-4fb1-9cbb-a45090ec9948",
   "metadata": {},
   "outputs": [],
   "source": [
    "data1 = data1.drop(['hospital'], axis = 1)\n",
    "data2 = data2.drop(['hospital'], axis = 1)"
   ]
  },
  {
   "cell_type": "code",
   "execution_count": 8,
   "id": "10e5539a-0886-41f4-83d6-70f41521590a",
   "metadata": {},
   "outputs": [],
   "source": [
    "X = data1.drop('outcome', axis=1)\n",
    "y = data1['outcome']"
   ]
  },
  {
   "cell_type": "code",
   "execution_count": 9,
   "id": "d33eef1c-c2ab-4561-9856-cc3469c3acc2",
   "metadata": {},
   "outputs": [],
   "source": [
    "X_test = data2.drop('outcome', axis=1)\n",
    "y_test = data2['outcome']"
   ]
  },
  {
   "cell_type": "code",
   "execution_count": 10,
   "id": "effd54b7-4ad4-4771-acb8-2437f955ac8a",
   "metadata": {},
   "outputs": [],
   "source": [
    "# 导入train_test_split函数，用于划分训练集和测试集\n",
    "from sklearn.model_selection import train_test_split\n",
    "# 拆分数据集  \n",
    "X_train, X_val, y_train, y_val = train_test_split(X, y, test_size=0.3, random_state=99)"
   ]
  },
  {
   "cell_type": "code",
   "execution_count": 11,
   "id": "7801859f-5e8a-44bf-9ac1-3997cec21660",
   "metadata": {},
   "outputs": [
    {
     "data": {
      "text/plain": [
       "outcome\n",
       "0    523\n",
       "1    252\n",
       "Name: count, dtype: int64"
      ]
     },
     "execution_count": 11,
     "metadata": {},
     "output_type": "execute_result"
    }
   ],
   "source": [
    "pd.Series(y_train).value_counts()"
   ]
  },
  {
   "cell_type": "code",
   "execution_count": 12,
   "id": "eaedc031-3646-48e6-8723-2650d7d7917b",
   "metadata": {},
   "outputs": [],
   "source": [
    "# 导入准确率和分类报告指标\n",
    "from sklearn.metrics import accuracy_score, classification_report, roc_auc_score, auc, f1_score, recall_score, confusion_matrix, ConfusionMatrixDisplay"
   ]
  },
  {
   "cell_type": "code",
   "execution_count": 13,
   "id": "6b09a337-475d-4ae6-a5e0-ba1984be8942",
   "metadata": {},
   "outputs": [
    {
     "name": "stdout",
     "output_type": "stream",
     "text": [
      "Logistic train set confusion matrix:\n",
      "[[449  74]\n",
      " [ 20 232]]\n",
      "Logistic validation set confusion matrix:\n",
      "[[190  27]\n",
      " [  9 107]]\n",
      "Logistic test set confusion matrix:\n",
      "[[140  29]\n",
      " [ 13  65]]\n"
     ]
    },
    {
     "data": {
      "image/png": "[encoded data removed]",
      "text/plain": [
       "<Figure size 640x480 with 2 Axes>"
      ]
     },
     "metadata": {},
     "output_type": "display_data"
    },
    {
     "data": {
      "image/png": "[encoded data removed]",
      "text/plain": [
       "<Figure size 640x480 with 2 Axes>"
      ]
     },
     "metadata": {},
     "output_type": "display_data"
    },
    {
     "data": {
      "image/png": "[encoded data removed]",
      "text/plain": [
       "<Figure size 640x480 with 2 Axes>"
      ]
     },
     "metadata": {},
     "output_type": "display_data"
    },
    {
     "name": "stdout",
     "output_type": "stream",
     "text": [
      "Training AUC: 0.9669, 95% CI: (0.9561, 0.9768)\n",
      "Validation AUC: 0.9516, 95% CI: (0.9297, 0.9717)\n",
      "Test AUC: 0.9231, 95% CI: (0.8846, 0.9538)\n",
      "Train set recall: 0.9206349206349206\n",
      "Validation set recall: 0.9224137931034483\n",
      "Test set recall: 0.8333333333333334\n",
      "Train set accuracy: 0.8787096774193548\n",
      "Validation set accuracy: 0.8918918918918919\n",
      "Test set accuracy: 0.8299595141700404\n",
      "Train set f1: 0.8315412186379929\n",
      "Validation set f1: 0.856\n",
      "Test set f1: 0.7558139534883721\n",
      "Best cutoff value: 0.24279854547156401\n"
     ]
    }
   ],
   "source": [
    "from sklearn.linear_model import LogisticRegression\n",
    "from scipy import stats\n",
    "import matplotlib.pyplot as plt\n",
    "\n",
    "  \n",
    "# 假设 data1 和 data2 已经被加载为pandas DataFrame，并且包含了特征和目标变量  \n",
    "# data1['features'] 和 data1['target']  \n",
    "# data2['features'] 和 data2['target']（注意：对于test集，我们通常不使用target来计算性能指标）  \n",
    "  \n",
    "# 逻辑回归模型训练  \n",
    "model_logistic = LogisticRegression(max_iter=1000, solver='liblinear', penalty='l2', C=90, random_state=99)  \n",
    "\n",
    "# 在训练集上训练模型\n",
    "model_logistic.fit(X_train, y_train)  \n",
    "\n",
    "#val和test集标准化\n",
    "  \n",
    "# 预测概率  \n",
    "y_train_logistic_probs = model_logistic.predict_proba(X_train)[:, 1]  \n",
    "y_val_logistic_probs = model_logistic.predict_proba(X_val)[:, 1]  \n",
    "y_test_logistic_probs = model_logistic.predict_proba(X_test)[:, 1]   \n",
    "\n",
    "\n",
    "# 初始化变量来存储最佳阈值和性能指标  \n",
    "best_threshold = None  \n",
    "best_j_index = -1  \n",
    "\n",
    "# 遍历可能的阈值（这里使用所有不同的预测概率作为阈值）  \n",
    "thresholds = np.unique(np.concatenate((y_train_logistic_probs, y_val_logistic_probs)))  \n",
    "for threshold in thresholds:  \n",
    "    # 计算validation集的混淆矩阵（仅用于选择最佳阈值）  \n",
    "    val_predictions = (y_val_logistic_probs >= threshold).astype(int)  \n",
    "    tn, fp, fn, tp = confusion_matrix(y_val, val_predictions).ravel()  \n",
    "    sensitivity = tp / (tp + fn) if (tp + fn) > 0 else 0  \n",
    "    specificity = tn / (tn + fp) if (tn + fp) > 0 else 0  \n",
    "    j_index = sensitivity + specificity - 1  \n",
    "      \n",
    "    # 更新最佳阈值和约登指数  \n",
    "    if j_index > best_j_index:  \n",
    "        best_j_index = j_index  \n",
    "        best_threshold_logistic = threshold\n",
    "\n",
    "  \n",
    "# 使用最佳阈值进行分类  \n",
    "y_train_logistic_pred = (y_train_logistic_probs >= best_threshold_logistic).astype(int)  \n",
    "y_val_logistic_pred = (y_val_logistic_probs >= best_threshold_logistic).astype(int)  \n",
    "y_test_logistic_pred = (y_test_logistic_probs >= best_threshold_logistic).astype(int)  \n",
    "  \n",
    "# 混淆矩阵  \n",
    "train_logistic_cm = confusion_matrix(y_train, y_train_logistic_pred)  \n",
    "val_logistic_cm = confusion_matrix(y_val, y_val_logistic_pred)  \n",
    "# 注意：对于test集，我们通常不计算真实的混淆矩阵，因为没有真实的标签（或假设我们不知道它们）  \n",
    "# 但为了完整性，我们假设有标签并计算它  \n",
    "test_logistic_cm = confusion_matrix(y_test, y_test_logistic_pred)   \n",
    "\n",
    "# 绘制混淆矩阵图  \n",
    "disp_train_logistic = ConfusionMatrixDisplay(confusion_matrix=train_logistic_cm)\n",
    "disp_val_logistic = ConfusionMatrixDisplay(confusion_matrix=val_logistic_cm)\n",
    "disp_test_logistic = ConfusionMatrixDisplay(confusion_matrix=test_logistic_cm)\n",
    "  \n",
    "# 召回率、准确率  \n",
    "train_logistic_recall = recall_score(y_train, y_train_logistic_pred)  \n",
    "train_logistic_accuracy = accuracy_score(y_train, y_train_logistic_pred)  \n",
    "  \n",
    "val_logistic_recall = recall_score(y_val, y_val_logistic_pred)  \n",
    "val_logistic_accuracy = accuracy_score(y_val, y_val_logistic_pred)  \n",
    "  \n",
    "test_logistic_recall = recall_score(y_test, y_test_logistic_pred)  # 假设data2['target']是可用的  \n",
    "test_logistic_accuracy = accuracy_score(y_test, y_test_logistic_pred)  # 同样假设  \n",
    "\n",
    "# 计算F1分数  \n",
    "train_logistic_f1 = f1_score(y_train, y_train_logistic_pred)  \n",
    "val_logistic_f1 = f1_score(y_val, y_val_logistic_pred)  \n",
    "test_logistic_f1 = f1_score(y_test, y_test_logistic_pred)\n",
    "\n",
    "# 计算训练集AUC的95%置信区间  \n",
    "def auc_ci(y_train, y_train_logistic_probs, n_bootstraps=1000, alpha=0.05):  \n",
    "    bootstrapped_scores = []  \n",
    "  \n",
    "    # 生成n_bootstraps个bootstrap样本，并计算每个样本的AUC  \n",
    "    for i in range(n_bootstraps):  \n",
    "        # 从原始样本中有放回地随机抽取样本  \n",
    "        indices = np.random.choice(len(y_train), len(y_train), replace=True)\n",
    "        y_train_logistic_bootstrap = y_train.iloc[indices]\n",
    "        y_train_logistic_probs_bootstrap = y_train_logistic_probs[indices]\n",
    "    \n",
    "        score_logistic = roc_auc_score(y_train_logistic_bootstrap, y_train_logistic_probs_bootstrap)  \n",
    "        bootstrapped_scores.append(score_logistic)  \n",
    "  \n",
    "    # 计算置信区间  \n",
    "    bootstrapped_scores = np.array(bootstrapped_scores)  \n",
    "    lower = np.percentile(bootstrapped_scores, 100 * alpha / 2)  \n",
    "    upper = np.percentile(bootstrapped_scores, 100 * (1 - alpha / 2))  \n",
    "    return lower, upper  \n",
    "\n",
    "# 计算train集的AUC及其95%CI（虽然这通常不是基于阈值的）  \n",
    "train_logistic_auc = roc_auc_score(y_train, y_train_logistic_probs) \n",
    "train_logistic_auc_ci = auc_ci(y_train, y_train_logistic_probs) \n",
    "\n",
    "# 计算验证集AUC的95%置信区间  \n",
    "def auc_ci(y_val, y_val_logistic_probs, n_bootstraps=1000, alpha=0.05):  \n",
    "    bootstrapped_scores = []  \n",
    "  \n",
    "    # 生成n_bootstraps个bootstrap样本，并计算每个样本的AUC  \n",
    "    for i in range(n_bootstraps):  \n",
    "        # 从原始样本中有放回地随机抽取样本  \n",
    "        indices = np.random.choice(len(y_val), len(y_val), replace=True)\n",
    "        y_val_logistic_bootstrap = y_val.iloc[indices]\n",
    "        y_val_logistic_probs_bootstrap = y_val_logistic_probs[indices]\n",
    "    \n",
    "        score_logistic = roc_auc_score(y_val_logistic_bootstrap, y_val_logistic_probs_bootstrap)  \n",
    "        bootstrapped_scores.append(score_logistic)  \n",
    "  \n",
    "    # 计算置信区间  \n",
    "    bootstrapped_scores = np.array(bootstrapped_scores)  \n",
    "    lower = np.percentile(bootstrapped_scores, 100 * alpha / 2)  \n",
    "    upper = np.percentile(bootstrapped_scores, 100 * (1 - alpha / 2))  \n",
    "    return lower, upper \n",
    "\n",
    "# 计算validation集的AUC及其95%CI（虽然这通常不是基于阈值的） \n",
    "val_logistic_auc = roc_auc_score(y_val, y_val_logistic_probs)\n",
    "val_logistic_auc_ci = auc_ci(y_val, y_val_logistic_probs) \n",
    "\n",
    "\n",
    "# 计算测试集AUC的95%置信区间  \n",
    "def auc_ci(y_test, y_test_logistic_probs, n_bootstraps=1000, alpha=0.05):  \n",
    "    bootstrapped_scores = []  \n",
    "  \n",
    "    # 生成n_bootstraps个bootstrap样本，并计算每个样本的AUC  \n",
    "    for i in range(n_bootstraps):  \n",
    "        # 从原始样本中有放回地随机抽取样本  \n",
    "        indices = np.random.choice(len(y_test), len(y_test), replace=True)\n",
    "        y_test_logistic_bootstrap = y_test.iloc[indices]\n",
    "        y_test_logistic_probs_bootstrap = y_test_logistic_probs[indices]\n",
    "        \n",
    "        score_logistic = roc_auc_score(y_test_logistic_bootstrap, y_test_logistic_probs_bootstrap)  \n",
    "        bootstrapped_scores.append(score_logistic)  \n",
    "  \n",
    "    # 计算置信区间  \n",
    "    bootstrapped_scores = np.array(bootstrapped_scores)  \n",
    "    lower = np.percentile(bootstrapped_scores, 100 * alpha / 2)  \n",
    "    upper = np.percentile(bootstrapped_scores, 100 * (1 - alpha / 2))  \n",
    "    return lower, upper\n",
    "\n",
    "# 计算test集的AUC及其95%CI（虽然这通常不是基于阈值的） \n",
    "test_logistic_auc = roc_auc_score(y_test, y_test_logistic_probs)\n",
    "test_logistic_auc_ci = auc_ci(y_test, y_test_logistic_probs) \n",
    "\n",
    "print(\"Logistic train set confusion matrix:\")  \n",
    "print(train_logistic_cm)  \n",
    "print(\"Logistic validation set confusion matrix:\")  \n",
    "print(val_logistic_cm) \n",
    "print(\"Logistic test set confusion matrix:\")  \n",
    "print(test_logistic_cm)\n",
    "disp_train_logistic.plot(cmap=plt.cm.Blues)\n",
    "disp_val_logistic.plot(cmap=plt.cm.Blues)\n",
    "disp_test_logistic.plot(cmap=plt.cm.Blues)\n",
    "\n",
    "plt.show()\n",
    "\n",
    "#输出AUC及其95%置信区间： \n",
    "print(f\"Training AUC: {train_logistic_auc:.4f}, 95% CI: ({train_logistic_auc_ci[0]:.4f}, {train_logistic_auc_ci[1]:.4f})\")  \n",
    "print(f\"Validation AUC: {val_logistic_auc:.4f}, 95% CI: ({val_logistic_auc_ci[0]:.4f}, {val_logistic_auc_ci[1]:.4f})\")  \n",
    "print(f\"Test AUC: {test_logistic_auc:.4f}, 95% CI: ({test_logistic_auc_ci[0]:.4f}, {test_logistic_auc_ci[1]:.4f})\")\n",
    "\n",
    "\n",
    "print(f\"Train set recall: {train_logistic_recall}\")  \n",
    "print(f\"Validation set recall: {val_logistic_recall}\") \n",
    "print(f\"Test set recall: {test_logistic_recall}\")\n",
    "\n",
    "print(f\"Train set accuracy: {train_logistic_accuracy}\")   \n",
    "print(f\"Validation set accuracy: {val_logistic_accuracy}\")   \n",
    "print(f\"Test set accuracy: {test_logistic_accuracy}\")  \n",
    "\n",
    "print(f\"Train set f1: {train_logistic_f1}\")  \n",
    "print(f\"Validation set f1: {val_logistic_f1}\")  \n",
    "print(f\"Test set f1: {test_logistic_f1}\")\n",
    "\n",
    "print(f\"Best cutoff value: {best_threshold_logistic}\") "
   ]
  },
  {
   "cell_type": "code",
   "execution_count": 14,
   "id": "8e40e2e6-74c2-42c0-b438-33a6aa67ebff",
   "metadata": {},
   "outputs": [
    {
     "data": {
      "text/plain": [
       "['Logistic.pkl']"
      ]
     },
     "execution_count": 14,
     "metadata": {},
     "output_type": "execute_result"
    }
   ],
   "source": [
    "import joblib\n",
    "# 保存模型\n",
    "joblib.dump(model_logistic , 'Logistic.pkl')"
   ]
  },
  {
   "cell_type": "code",
   "execution_count": 15,
   "id": "510e5f14-0201-4713-8502-a4194e2557aa",
   "metadata": {},
   "outputs": [
    {
     "name": "stderr",
     "output_type": "stream",
     "text": [
      "2024-12-20 19:52:53.790 \n",
      "  \u001b[33m\u001b[1mWarning:\u001b[0m to view this Streamlit app on a browser, run it with the following\n",
      "  command:\n",
      "\n",
      "    streamlit run D:\\download\\anaconda\\Lib\\site-packages\\ipykernel_launcher.py [ARGUMENTS]\n",
      "2024-12-20 19:52:53.790 Session state does not function when running a script without `streamlit run`\n"
     ]
    }
   ],
   "source": [
    "import streamlit as st\n",
    "import joblib\n",
    "import numpy as np\n",
    "import pandas as pd\n",
    "import shap\n",
    "import matplotlib.pyplot as plt\n",
    "\n",
    "# Load the model\n",
    "model = joblib.load('Logistic.pkl')\n",
    "\n",
    "# Define feature names\n",
    "feature_names = [\"LDH\", \"ALP\", \"Neutrophils\", \"DBIL\", \"ALB\", \"Fg\"]\n",
    "\n",
    "# Streamlit user interface\n",
    "st.title(\"COVID-19 Subphenotype Classifier\")\n",
    "\n",
    "# LDH: numerical input\n",
    "LDH = st.number_input(\"LDH:\", min_value=50, max_value=4000, value=270)\n",
    "\n",
    "# ALP: numerical input\n",
    "ALP = st.number_input(\"ALP:\", min_value=1, max_value=2000, value=80)\n",
    "\n",
    "# Neutrophils: numerical input\n",
    "Neutrophils = st.number_input(\"Neutrophils:\", min_value=0, max_value=50, value=6)\n",
    "\n",
    "# DBIL: numerical input\n",
    "DBIL = st.number_input(\"DBIL:\", min_value=0, max_value=100, value=5)\n",
    "\n",
    "# ALB: numerical input\n",
    "ALB = st.number_input(\"ALB:\", min_value=0, max_value=100, value=35)\n",
    "\n",
    "# Fg: numerical input\n",
    "Fg = st.number_input(\"Fg:\", min_value=0, max_value=50, value=3)\n",
    "\n",
    "# Process inputs and make predictions\n",
    "feature_values = [LDH, ALP, Neutrophils, DBIL, ALB, Fg]\n",
    "features = np.array([feature_values])\n",
    "\n",
    "if st.button(\"Predict\"):\n",
    "    # Predict probabilities\n",
    "    predicted_proba = model.predict_proba(features)[0]\n",
    "    \n",
    "    # 根据预测概率的最高值来确定预测类别（但这里我们直接根据概率阈值判断）  \n",
    "    high_risk_threshold = 0.24  # 24% 的阈值  \n",
    "    if predicted_proba[1] > high_risk_threshold:  # 假设模型输出的第二个概率是高风险类的概率  \n",
    "        predicted_class = 1  # 高风险  \n",
    "    else:  \n",
    "        predicted_class = 0  # 低风险\n",
    "\n",
    "\n",
    "     # 显示预测结果  \n",
    "    st.write(f\"**Predicted Class (Based on Probability Threshold)**: {'Cluster 2' if predicted_class == 1 else 'Cluster 1'}\")  \n",
    "    st.write(f\"**Predicted Probability of Cluster 2**: {predicted_proba[1] * 100:.1f}%\")  \n",
    "\n",
    "\n"
   ]
  },
  {
   "cell_type": "code",
   "execution_count": null,
   "id": "9c862fc9-a1c7-4641-90f1-22b4feba1793",
   "metadata": {},
   "outputs": [],
   "source": []
  }
 ],
 "metadata": {
  "kernelspec": {
   "display_name": "Python 3 (ipykernel)",
   "language": "python",
   "name": "python3"
  },
  "language_info": {
   "codemirror_mode": {
    "name": "ipython",
    "version": 3
   },
   "file_extension": ".py",
   "mimetype": "text/x-python",
   "name": "python",
   "nbconvert_exporter": "python",
   "pygments_lexer": "ipython3",
   "version": "3.11.7"
  }
 },
 "nbformat": 4,
 "nbformat_minor": 5
}
